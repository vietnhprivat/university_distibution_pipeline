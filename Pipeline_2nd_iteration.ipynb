{
 "cells": [
  {
   "attachments": {},
   "cell_type": "markdown",
   "metadata": {},
   "source": [
    "# Gender and acceptance dataset cleaning pipeline (2nd iteration)"
   ]
  },
  {
   "attachments": {},
   "cell_type": "markdown",
   "metadata": {},
   "source": [
    "### Key changes:\n",
    "\n",
    "Added features:\n",
    "* Redefining all functions to include 2 new variables metric and status. Both variables determine which kind of dataset that will be futher analysed\n",
    "    * Metric can be defined as gender, age or acceptance. \n",
    "    * Status can be defined as applicants and admitted\n",
    "    * year define the data selection year\n",
    "* Adding 'acceptance' and 'applicants' datasets to the cleaning pipeline\n",
    "\n",
    "\n",
    "Modifications:\n",
    "* Modifying the dataframe creater script to automatically drop all rows before \"instnr\" which is the first column of the wanted header.\n",
    "* Replacing all null values with 0\n",
    "* Changing all columns and table names from Danish to English \n"
   ]
  },
  {
   "attachments": {},
   "cell_type": "markdown",
   "metadata": {},
   "source": [
    "## 1) Cleaning datasets from 2016 to 2022"
   ]
  },
  {
   "attachments": {},
   "cell_type": "markdown",
   "metadata": {},
   "source": [
    "Importing Libraries"
   ]
  },
  {
   "cell_type": "code",
   "execution_count": 1,
   "metadata": {},
   "outputs": [],
   "source": [
    "# Importing libraries\n",
    "import mysql.connector\n",
    "from mysql.connector import Error\n",
    "import os\n",
    "import numpy as np\n",
    "import pandas as pd\n",
    "pd.set_option('display.max_colwidth', None)\n",
    "pd.set_option('display.max_rows', 50)\n",
    "import sys\n",
    "import math\n"
   ]
  },
  {
   "attachments": {},
   "cell_type": "markdown",
   "metadata": {},
   "source": [
    "1) Creating a function that define a dataframe based on the .csv file name {status}_{metric}_{yaer}. Then detecting the location of 'instnr' and dropping all rows before that and then setting 'instnr' row as the new header. \n",
    "2) Cleaning data by removing studie start from all academic majors. That allow us to perform calculations on their values later. \n",
    "3) Exporting and creating new folder based on the filename, and overwriting matching files.\n",
    "4) Executing the function clean_and_save_dataframe with the preferred metrics"
   ]
  },
  {
   "cell_type": "code",
   "execution_count": null,
   "metadata": {},
   "outputs": [],
   "source": [
    "# Creating a function to clean and save the dataframe\n",
    "def clean_and_save_dataframe(year, metric, status, df_2022=None):\n",
    "    csv_file = f\"{metric}/{status}_{metric}_{year}.csv\"\n",
    "    \n",
    "    # Read the CSV file without headers\n",
    "    df = pd.read_csv(csv_file, header=None)\n",
    "\n",
    "    # Find the index of the row containing 'InstNr'\n",
    "    instnr_index = df[df.applymap(lambda x: x == '1000').any(axis=1)].index[0]\n",
    "\n",
    "    # Drop all the rows before 'InstNr'\n",
    "    df.drop(df.index[:instnr_index], inplace=True)\n",
    "\n",
    "    # Define the new header\n",
    "    if metric == 'gender' and year in range(2009, 2023):\n",
    "        headers = ['instnr', 'instname', 'optnr', 'optname', 'male', 'female', 'total']\n",
    "    \n",
    "    \n",
    "    elif metric == 'acceptance' and year in range(2009, 2014):\n",
    "        headers = ['instnr', 'instname', 'optnr', 'optname', 'total', 'unknown', 'stx', 'hf', 'hhx', 'htx', 'ib', 'gif', 'afi', 'eud', 'andet', 'ib_udland', 'udland', 'eux']\n",
    "\n",
    "\n",
    "    \n",
    "    elif metric == 'acceptance' and year in range(2014, 2018) and year != 2016:\n",
    "        headers = ['instnr', 'instname', 'optnr', 'optname', 'total', 'unknown', 'stx', 'hf', 'hhx', 'htx', 'ib', 'gif', 'afi', 'eud', 'andet', 'ib_udland', 'udland', 'eux']\n",
    "\n",
    "    \n",
    "    elif metric == 'acceptance' and year in range(2016, 2023) and year != 2017:\n",
    "        headers = ['instnr', 'instname', 'optnr', 'optname', 'total', 'unknown', 'stx', 'hf', 'hhx', 'htx', 'ib', 'gif', 'afi', 'eud', 'andet', 'ib_udland', 'udland', 'eux', 'eux_1', 'faroese', 'greenlandic']\n",
    "    \n",
    "    else:\n",
    "        print(f'Intervals {year}, {metric} or {status} not correct')\n",
    "        sys.exit()\n",
    "\n",
    "    # Add the new header to the dataframe\n",
    "    df.columns = headers\n",
    "\n",
    "    # Reset the index\n",
    "    df.reset_index(drop=True, inplace=True)\n",
    "\n",
    "    # create a boolean mask that identifies the rows containing 'I alt'\n",
    "    mask = df.apply(lambda x: x.str.contains('I alt')).any(axis=1)\n",
    "\n",
    "    # select only the rows that do not match the mask and drop all other rows\n",
    "    df = df[~mask]\n",
    "\n",
    "    # Drop rows with NaN in 'instnr' column\n",
    "    df = df.dropna(subset=['instnr', 'instname', 'optnr', 'optname'])\n",
    "\n",
    "    # Drop all rows containing E-læring\n",
    "    df = df[~df['optname'].str.contains('E-læring')]\n",
    "\n",
    "    # Drop rows with NaN in 'instnr' column\n",
    "    df = df.dropna(subset=['instnr', 'instname', 'optnr', 'optname'])\n",
    "\n",
    "    # Replace all null values with 0\n",
    "    df = df.fillna(0)\n",
    "\n",
    "    # Defining a function that converts to the dtyoe of the column to the corresponding header \n",
    "    def dtype_converter(df):\n",
    "        for col in df.columns:\n",
    "            if col in ['instnr', 'optnr', 'male','year', 'female', 'total', 'unknown', 'stx', 'hf', 'hhx', 'htx', 'ib', 'gif', 'afi', 'eud', 'andet', 'ib_udland', 'udland', 'eux', 'eux_1', 'faroese', 'greenlandic']:\n",
    "\n",
    "              # convert float columns to int\n",
    "                df[col] = df[col].apply(lambda x: math.floor(float(x))).astype(int)\n",
    "\n",
    "                # Converting columns dtype to string\n",
    "            elif col in ['instname', 'optname']:\n",
    "                df[col] = df[col].astype(str)\n",
    "\n",
    "    # Converts the columns to the corresponding dtype            \n",
    "    dtype_converter(df)\n",
    "\n",
    "    # Cleaning data by removing studie start\n",
    "    df['optname'] = df['optname'].str.replace(', Studiestart: sommerstart', '')\n",
    "    df['optname'] = df['optname'].str.replace(', Studiestart: vinterstart', '')\n",
    "    df['optname'] = df['optname'].str.replace(', Studiestart: sommer- og vinterstart', '')\n",
    "    df['optname'] = df['optname'].str.replace(', Study start: Summer start', '')\n",
    "    df['optname'] = df['optname'].str.replace(', Study start: Winter start', '')\n",
    "    \n",
    "    # Gender data cleaning \n",
    "    if metric == 'gender':\n",
    "        # Grouping and aggregating and adding matching academic majors students together\n",
    "        df = df.groupby(['instnr', 'instname', 'optname']).agg(\n",
    "            optnr=('optnr', 'max'),\n",
    "            total=('total', 'sum'),\n",
    "            male=('male', 'sum'),\n",
    "            female=('female', 'sum')\n",
    "            ).reset_index()\n",
    "        \n",
    "        if year > 2015:\n",
    "        # Dropping everything after the last ',' This will result in removing the location\n",
    "            df['optname'] = df['optname'].str.rsplit(',', n=1, expand=True)[0]\n",
    "\n",
    "        # Updating table by adding a new column with the corresponding year\n",
    "        df.insert(loc=1, column='year', value=year)\n",
    "        \n",
    "        # Reindexing the columns \n",
    "        df = df.reindex(columns=['instnr','year', 'instname', 'optnr', 'optname', 'male', 'female', 'total'])\n",
    "\n",
    "    \n",
    "    # Defining a file exporter function\n",
    "    def file_exporter(df):\n",
    "        folder_path = f'./{metric}_cleaned/'\n",
    "        if not os.path.exists(folder_path):\n",
    "            os.makedirs(folder_path)\n",
    "\n",
    "        file_path = folder_path + f'{status}_{metric}_clean_{year}.csv'\n",
    "        df.to_csv(file_path, index=False)\n",
    "\n",
    "    # Creating a dataframe to sort all unwanted educations and renaming all Academic Majors to 2022 new names \n",
    "    if year == 2022:\n",
    "        file_exporter(df)\n",
    "        df_2022 = df[['optnr', 'optname','instname']].rename(columns={'optname': 'optname_2022', 'instname' : 'instname_2022'})\n",
    "        return df_2022\n",
    "        \n",
    "   \n",
    "    # merge the DataFrames on the 'optnr' column if not 2022 and deleting all NaN rows\n",
    "    if year != 2022:\n",
    "        merged_df = pd.merge(df_2022, df, on='optnr', how='left')\n",
    "\n",
    "        # Dropping Null values \n",
    "        df = merged_df.dropna(subset=(['optname']))\n",
    "\n",
    "        # Dropping Name Axis 'old'\n",
    "        df = df.drop(['optname','instname'], axis=1)\n",
    "\n",
    "        # Renaming to the 'new' optname column \n",
    "        df = df.rename(columns={'optname_2022': 'optname', 'instname_2022': 'instname'})\n",
    "\n",
    "        # Converting to the right corresponding dtype\n",
    "        dtype_converter(df)\n",
    "\n",
    "        # Reindexing the columns to the desired order\n",
    "        df = df.reindex(columns=['instnr','year', 'instname', 'optnr', 'optname', 'male', 'female', 'total'])\n",
    "\n",
    "        # Export cleaned csv files\n",
    "        file_exporter(df)\n",
    "    \n",
    "    # Displaying all functions\n",
    "    # display(df)\n",
    "\n",
    "# Global dataframe\n",
    "df_2022 = clean_and_save_dataframe(2022, 'gender', 'applicants')\n",
    "\n",
    "# Iterate through the years, metrics and statuses and process each name and variant\n",
    "metrics = ['gender']\n",
    "\n",
    "statuses = ['applicants',\n",
    "            'admitted'\n",
    "            ]\n",
    "\n",
    "years = [2022] + list(range(2009, 2022)) \n",
    "\n",
    "# Loop through all years and call table_creator() for each combination of metric and status\n",
    "for year in (years):\n",
    "    for metric in metrics:\n",
    "        for status in statuses:\n",
    "            if year == 2022:\n",
    "                # Assign the result of the function call to df_2022\n",
    "                df_2022 = clean_and_save_dataframe(year, metric, status)\n",
    "            else:\n",
    "                # Call the function with the current df_2022\n",
    "                clean_and_save_dataframe(year, metric, status, df_2022)\n",
    "\n",
    "# Creating acceptance table\n",
    "clean_and_save_dataframe(2022, 'acceptance', 'admitted')\n"
   ]
  },
  {
   "attachments": {},
   "cell_type": "markdown",
   "metadata": {},
   "source": [
    "## 2) Connecting to SQL server"
   ]
  },
  {
   "attachments": {},
   "cell_type": "markdown",
   "metadata": {},
   "source": [
    "Defining server connection"
   ]
  },
  {
   "cell_type": "code",
   "execution_count": 2,
   "metadata": {},
   "outputs": [
    {
     "name": "stdout",
     "output_type": "stream",
     "text": [
      "MySQL Database connection successful\n"
     ]
    },
    {
     "data": {
      "text/plain": [
       "<mysql.connector.connection.MySQLConnection at 0x169c28fb190>"
      ]
     },
     "execution_count": 2,
     "metadata": {},
     "output_type": "execute_result"
    }
   ],
   "source": [
    "# Creating a reuseable function that connect to mysql server, using host_name, user_name, user_password\n",
    "def create_server_connection(host_name, user_name, user_password):\n",
    "    connection = None\n",
    "    try:\n",
    "        connection = mysql.connector.connect(\n",
    "            host=host_name,\n",
    "            user=user_name,\n",
    "            passwd=user_password\n",
    "        )\n",
    "        print(\"MySQL Database connection successful\")\n",
    "    except Error as err:\n",
    "        print(f\"Error: '{err}'\")\n",
    "\n",
    "    return connection \n",
    "create_server_connection('localhost', 'root', '1234')"
   ]
  },
  {
   "attachments": {},
   "cell_type": "markdown",
   "metadata": {},
   "source": [
    "### 2.1) Creating database and connecting"
   ]
  },
  {
   "attachments": {},
   "cell_type": "markdown",
   "metadata": {},
   "source": [
    "Creating database"
   ]
  },
  {
   "cell_type": "code",
   "execution_count": 3,
   "metadata": {},
   "outputs": [
    {
     "name": "stdout",
     "output_type": "stream",
     "text": [
      "MySQL Database connection successful\n",
      "Database university_distibution2 dropped successfully\n",
      "Database university_distibution2 created successfully\n"
     ]
    }
   ],
   "source": [
    "# Defining a function that create a new data base\n",
    "def database(connection, query):\n",
    "    cursor = connection.cursor()\n",
    "    try:\n",
    "        cursor.execute(query)\n",
    "        if query == create:\n",
    "            print(f\"Database {database_name} created successfully\")\n",
    "        elif query == drop:\n",
    "            print(f\"Database {database_name} dropped successfully\")\n",
    "    except Error as err:\n",
    "        print(f\"Error: '{err}'\")\n",
    "\n",
    "# 1. Connecting to the SQL server and defining the connection\n",
    "connection = create_server_connection('localhost', 'root', '1234')\n",
    "\n",
    "# Define database name\n",
    "database_name = 'university_distibution2'\n",
    "\n",
    "# 2. Drop existing database\n",
    "drop = f\"Drop DATABASE if exists {database_name}\"\n",
    "\n",
    "# 3. Creating the SQL query that will create a database\n",
    "create = f\"CREATE DATABASE {database_name}\"\n",
    "\n",
    "# 4. Using the function to create the database¨\n",
    "database(connection, drop)\n",
    "database(connection, create)"
   ]
  },
  {
   "attachments": {},
   "cell_type": "markdown",
   "metadata": {},
   "source": [
    "Connecting to database"
   ]
  },
  {
   "cell_type": "code",
   "execution_count": 3,
   "metadata": {},
   "outputs": [
    {
     "name": "stdout",
     "output_type": "stream",
     "text": [
      "MySQL Database connection successful\n"
     ]
    }
   ],
   "source": [
    "# Defining a function that connects to the database \n",
    "def create_db_connection(host_name, user_name, user_password, db_name):\n",
    "    connection = None\n",
    "    try:\n",
    "        connection = mysql.connector.connect(\n",
    "            host=host_name,\n",
    "            user=user_name,\n",
    "            passwd=user_password,\n",
    "            database=db_name\n",
    "        )\n",
    "        print(\"MySQL Database connection successful\")\n",
    "    except Error as err:\n",
    "        print(f\"Error: '{err}'\")\n",
    "\n",
    "    return connection\n",
    "\n",
    "# Define database name\n",
    "database_name = 'university_distibution2'\n",
    "\n",
    "# Connecting to the database\n",
    "connection = create_db_connection('localhost', 'root','1234', database_name)\n"
   ]
  },
  {
   "attachments": {},
   "cell_type": "markdown",
   "metadata": {},
   "source": [
    "Defining execute functions"
   ]
  },
  {
   "cell_type": "code",
   "execution_count": 4,
   "metadata": {},
   "outputs": [],
   "source": [
    "# Defining a query execution function\n",
    "def execute_query(connection, query):\n",
    "    cursor = connection.cursor()\n",
    "    try:\n",
    "        cursor.execute(query)\n",
    "        connection.commit()\n",
    "        print(\"Query successful\")\n",
    "    except Error as err:\n",
    "        print(f\"Error: '{err}'\")"
   ]
  },
  {
   "attachments": {},
   "cell_type": "markdown",
   "metadata": {},
   "source": [
    "Creating tables "
   ]
  },
  {
   "cell_type": "code",
   "execution_count": 6,
   "metadata": {},
   "outputs": [
    {
     "name": "stdout",
     "output_type": "stream",
     "text": [
      "MySQL Database connection successful\n",
      "Query successful\n",
      "Query successful\n",
      "Query successful\n",
      "Query successful\n",
      "Query successful\n",
      "Query successful\n",
      "Query successful\n",
      "Query successful\n",
      "Query successful\n",
      "Query successful\n",
      "Query successful\n",
      "Query successful\n",
      "Query successful\n",
      "Query successful\n",
      "Query successful\n",
      "Query successful\n",
      "Query successful\n",
      "Query successful\n",
      "Query successful\n",
      "Query successful\n",
      "Query successful\n",
      "Query successful\n",
      "Query successful\n",
      "Query successful\n",
      "Query successful\n",
      "Query successful\n",
      "Query successful\n",
      "Query successful\n",
      "Query successful\n"
     ]
    }
   ],
   "source": [
    "# Creating table gender\n",
    "def table_creator(year, metric, status):\n",
    "    if metric == 'gender':\n",
    "        create_table = f\"\"\"\n",
    "        CREATE TABLE {status}_{metric}_{year} (\n",
    "            InstNr varchar(200),\n",
    "            Year varchar(200),\n",
    "            InstName varchar(200),\n",
    "            OptNr varchar(200),\n",
    "            OptName varchar(200),\n",
    "            Male int,\n",
    "            Female int,\n",
    "            Total int   \n",
    "        );\n",
    "        \"\"\"\n",
    "       \n",
    "    \n",
    "    elif metric == 'acceptance' and year == 2022:\n",
    "        create_table = f\"\"\"\n",
    "        CREATE TABLE {status}_{metric}_{year} (\n",
    "            InstNr int null,\n",
    "            InstName varchar(200),\n",
    "            OptNr int null,\n",
    "            OptName varchar(200),\n",
    "            Total int null,\n",
    "            Uoplyst int null,\n",
    "            STX int null,\n",
    "            HF int null,\n",
    "            HHX int null,\n",
    "            HTX int null,\n",
    "            IB int null,\n",
    "            GIF int null,\n",
    "            AFI int null,\n",
    "            EUD int null,\n",
    "            ANDET int null,\n",
    "            IB_UDLAND int null,\n",
    "            UDLAND int null,\n",
    "            EUX int null,\n",
    "            EUX_1 int null,\n",
    "            Faroese int null,\n",
    "            GREENLANDIC int null\n",
    "        );\n",
    "    \n",
    "            \"\"\"\n",
    "    else:\n",
    "        print('Error')\n",
    "        \n",
    "    # Execute our defined query   \n",
    "    execute_query(connection, create_table)    \n",
    "\n",
    "\n",
    "# Connect to the Database\n",
    "connection = create_db_connection(\"localhost\", \"root\", \"1234\", database_name)\n",
    "\n",
    "# Iterate through the years from 2016 to 2022 and process each name and variant\n",
    "metrics = ['gender']\n",
    "\n",
    "statuses = ['admitted', \n",
    "            'applicants'\n",
    "            ]\n",
    "years = range(2009, 2023)\n",
    "\n",
    "# Loop through all years and call table_creator() for each combination of metric and status\n",
    "for year in years:\n",
    "    for metric in metrics:\n",
    "        for status in statuses:\n",
    "            table_creator(year, metric, status)\n",
    "\n",
    "# Creating acceptance table\n",
    "table_creator(2022, 'acceptance', 'admitted')\n"
   ]
  },
  {
   "attachments": {},
   "cell_type": "markdown",
   "metadata": {},
   "source": [
    "## 3) Loading data from .csv into tables from 2016-2022"
   ]
  },
  {
   "cell_type": "code",
   "execution_count": 7,
   "metadata": {},
   "outputs": [
    {
     "name": "stdout",
     "output_type": "stream",
     "text": [
      "MySQL Database connection successful\n",
      "Query successful\n"
     ]
    }
   ],
   "source": [
    "# Enabling file imports\n",
    "set_global = \"\"\"\n",
    "SET GLOBAL local_infile=1;\n",
    "\"\"\"\n",
    "# Connect to the Database\n",
    "connection = create_db_connection(\"localhost\", \"root\", \"1234\", database_name)\n",
    "execute_query(connection, set_global)"
   ]
  },
  {
   "attachments": {},
   "cell_type": "markdown",
   "metadata": {},
   "source": [
    "Loading data into tables based on conditions status, metric and year."
   ]
  },
  {
   "cell_type": "code",
   "execution_count": 8,
   "metadata": {},
   "outputs": [
    {
     "name": "stdout",
     "output_type": "stream",
     "text": [
      "MySQL Database connection successful\n",
      "Query successful\n",
      "Query successful\n",
      "Query successful\n",
      "Query successful\n",
      "Query successful\n",
      "Query successful\n",
      "Query successful\n",
      "Query successful\n",
      "Query successful\n",
      "Query successful\n",
      "Query successful\n",
      "Query successful\n",
      "Query successful\n",
      "Query successful\n",
      "Query successful\n",
      "Query successful\n",
      "Query successful\n",
      "Query successful\n",
      "Query successful\n",
      "Query successful\n",
      "Query successful\n",
      "Query successful\n",
      "Query successful\n",
      "Query successful\n",
      "Query successful\n",
      "Query successful\n",
      "Query successful\n",
      "Query successful\n",
      "Query successful\n"
     ]
    }
   ],
   "source": [
    "\n",
    "# Creating a function that loads .csv into tables with the corresponding year\n",
    "def csv_loader(year, metric, status):\n",
    "    load_csv_gender = f\"\"\"\n",
    "    LOAD DATA INFILE \n",
    "        'C:/Projects/SQL_Portfolio project/Videre_gaaende_uddannelser/python/{metric}_cleaned/{status}_{metric}_clean_{year}.csv'\n",
    "    INTO TABLE \n",
    "        {status}_{metric}_{year}\n",
    "    FIELDS TERMINATED BY ','\n",
    "    ENCLOSED BY '\"'\n",
    "    LINES TERMINATED BY '\\r\\n'\n",
    "    IGNORE 1 LINES;\n",
    "    \"\"\"\n",
    "    # Executing defined query\n",
    "    execute_query(connection, load_csv_gender) \n",
    "    \n",
    "# Connect to the Database\n",
    "connection = create_db_connection(\"localhost\", \"root\", \"1234\", database_name)\n",
    "\n",
    "# Iterate through the years from 2016 to 2022 and process each name and variant\n",
    "metrics = ['gender']\n",
    "\n",
    "statuses = ['admitted', \n",
    "            'applicants'\n",
    "            ]\n",
    "\n",
    "years = range(2009, 2023)\n",
    "\n",
    "# Loop through all years and call gender_dist_creator() for each combination of metric and status\n",
    "for year in years:\n",
    "    for metric in metrics:\n",
    "        for status in statuses:\n",
    "            csv_loader(year, metric, status)\n",
    "\n",
    "csv_loader(2022, 'acceptance', 'admitted')"
   ]
  },
  {
   "attachments": {},
   "cell_type": "markdown",
   "metadata": {},
   "source": [
    "## 4) Data analysis"
   ]
  },
  {
   "attachments": {},
   "cell_type": "markdown",
   "metadata": {},
   "source": [
    "### 4.1) Academic Major Gender Distibution"
   ]
  },
  {
   "attachments": {},
   "cell_type": "markdown",
   "metadata": {},
   "source": [
    "Creating a new view that group all of the matching educations(optname) and taking the sum of the students, and showing gender distibution in numbers and procentage share"
   ]
  },
  {
   "cell_type": "code",
   "execution_count": 18,
   "metadata": {},
   "outputs": [
    {
     "name": "stdout",
     "output_type": "stream",
     "text": [
      "Query successful\n"
     ]
    }
   ],
   "source": [
    "#Creating a function that execute a query select and calculate the gender distibution in pct.\n",
    "def gender_dist_creator(year, status):\n",
    "    create_gender_view = f\"\"\"\n",
    "    CREATE VIEW {status}_gender_dist_{year} AS\n",
    "    Select \n",
    "        instNr, \n",
    "        InstName,\n",
    "        Max(optnr) as OptNr,\n",
    "        OptName,\n",
    "        sum(Total) as Total,\n",
    "        sum(Male) as Male, \n",
    "        round(sum(Male)/sum(total)*100,2) as Male_pct,\n",
    "        sum( Female) as Female, \n",
    "        round(sum(Female)/sum(total)*100,2) as Female_pct\n",
    "    from {status}_gender_{year}\n",
    "    group by \n",
    "        InstNr, \n",
    "        InstName, \n",
    "        OptName\n",
    "    order by \n",
    "        InstNr;   \n",
    "    \"\"\"\n",
    "    execute_query(connection, create_gender_view)\n",
    "\n",
    "# Defining year and status \n",
    "years = range(2022, 2023)\n",
    "statuses = [ #'applicants', \n",
    "            'admitted'\n",
    "            ]\n",
    "\n",
    "# Iterating throught years and statuses\n",
    "for year in years:\n",
    "    for status in statuses:\n",
    "        gender_dist_creator(year, status)\n",
    "\n"
   ]
  },
  {
   "attachments": {},
   "cell_type": "markdown",
   "metadata": {},
   "source": [
    "### 4.2) Merging all tables  "
   ]
  },
  {
   "cell_type": "code",
   "execution_count": 5,
   "metadata": {},
   "outputs": [
    {
     "name": "stdout",
     "output_type": "stream",
     "text": [
      "Query successful\n"
     ]
    }
   ],
   "source": [
    "# Create a view that merges the admitted_gender tables\n",
    "def table_merger(status):\n",
    "    merge = f\"\"\"\n",
    "        CREATE OR REPLACE VIEW {status}_gender_merged AS\n",
    "        SELECT * FROM {status}_gender_2009\n",
    "        UNION ALL\n",
    "        SELECT * FROM {status}_gender_2010\n",
    "        UNION ALL\n",
    "        SELECT * FROM {status}_gender_2011\n",
    "        UNION ALL\n",
    "        SELECT * FROM {status}_gender_2012\n",
    "        UNION ALL\n",
    "        SELECT * FROM {status}_gender_2013\n",
    "        UNION ALL\n",
    "        SELECT * FROM {status}_gender_2014\n",
    "        UNION ALL\n",
    "        SELECT * FROM {status}_gender_2015\n",
    "        UNION ALL\n",
    "        SELECT * FROM {status}_gender_2016\n",
    "        UNION ALL\n",
    "        SELECT * FROM {status}_gender_2017\n",
    "        UNION ALL\n",
    "        SELECT * FROM {status}_gender_2018\n",
    "        UNION ALL\n",
    "        SELECT * FROM {status}_gender_2019\n",
    "        UNION ALL\n",
    "        SELECT * FROM {status}_gender_2020\n",
    "        UNION ALL\n",
    "        SELECT * FROM {status}_gender_2021\n",
    "        UNION ALL\n",
    "        SELECT * FROM {status}_gender_2022;\n",
    "    \"\"\"\n",
    "    execute_query(connection, merge)\n",
    "\n",
    "# Defining status\n",
    "statuses = [ 'applicants', \n",
    "            #'admitted'\n",
    "            ]\n",
    "\n",
    "# Iterating throug different status\n",
    "for status in statuses:\n",
    "    table_merger(status)\n"
   ]
  },
  {
   "attachments": {},
   "cell_type": "markdown",
   "metadata": {},
   "source": [
    "### 4.2) University Gender Distibution"
   ]
  },
  {
   "attachments": {},
   "cell_type": "markdown",
   "metadata": {},
   "source": [
    "Grouping all academic majors from the same university and calculating the gender distibution"
   ]
  },
  {
   "cell_type": "code",
   "execution_count": null,
   "metadata": {},
   "outputs": [
    {
     "name": "stdout",
     "output_type": "stream",
     "text": [
      "Query successful\n",
      "Query successful\n",
      "Query successful\n",
      "Query successful\n",
      "Query successful\n",
      "Query successful\n",
      "Query successful\n",
      "Query successful\n",
      "Query successful\n",
      "Query successful\n",
      "Query successful\n",
      "Query successful\n",
      "Query successful\n",
      "Query successful\n"
     ]
    }
   ],
   "source": [
    "# Creating a function that groups universities and calculate the percentage distibution\n",
    "def gender_dist_uni(year, status):\n",
    "    gender_uni_view = f\"\"\"\n",
    "    CREATE VIEW {status}_gender_dist_uni_{year} as\n",
    "    select \n",
    "        instnr,\n",
    "        instname,\n",
    "        sum(total_{year}) as total_{year},\n",
    "        sum(male_{year}) as male_{year},\n",
    "        round(sum(male_{year})/sum(total_{year})*100,2) as male_pct_{year},\n",
    "        sum(female_{year}) as female_{year},\n",
    "        round(sum(female_{year})/sum(total_{year})*100,2) as female_pct_{year}\n",
    "    from {status}_gender_dist_{year}\n",
    "    group by\n",
    "        instnr, instname\n",
    "    order by \n",
    "        instnr;\n",
    "\n",
    "    \"\"\"\n",
    "    execute_query(connection, gender_uni_view)\n",
    "\n",
    "# Defining year and status \n",
    "years = range(2016, 2023)\n",
    "statuses = ['applicants', 'admitted']\n",
    "\n",
    "# Iterating throught years and statuses\n",
    "for year in years:\n",
    "    for status in statuses:\n",
    "        gender_dist_uni(year, status)\n",
    "\n"
   ]
  },
  {
   "attachments": {},
   "cell_type": "markdown",
   "metadata": {},
   "source": [
    "### 4.3) Total Gender distibution"
   ]
  },
  {
   "attachments": {},
   "cell_type": "markdown",
   "metadata": {},
   "source": [
    "Grouping all universities and calculating the total distibution of students on the indiviual universities"
   ]
  },
  {
   "cell_type": "code",
   "execution_count": 12,
   "metadata": {},
   "outputs": [
    {
     "name": "stdout",
     "output_type": "stream",
     "text": [
      "Query successful\n",
      "Query successful\n",
      "Query successful\n",
      "Query successful\n",
      "Query successful\n",
      "Query successful\n",
      "Query successful\n",
      "Query successful\n",
      "Query successful\n",
      "Query successful\n",
      "Query successful\n",
      "Query successful\n",
      "Query successful\n",
      "Query successful\n"
     ]
    }
   ],
   "source": [
    "# Defining a function that execute the following SQL Query\n",
    "def student_dist(year, status):\n",
    "    student_dist_view = f\"\"\"\n",
    "    CREATE VIEW {status}_total_student_{year} as\n",
    "    SELECT \n",
    "        instnr,\n",
    "        instname,\n",
    "        round(sum(total_{year}) / (select sum(total_{year}) from {status}_gender_{year}) * 100,2) as pct_{year},\n",
    "        SUM(total_{year}) AS Total_{year}\n",
    "    FROM {status}_gender_{year}\n",
    "    GROUP BY \n",
    "        instnr,\n",
    "        instname\n",
    "    Order by total_{year} desc;\n",
    "\n",
    "    \"\"\"\n",
    "    execute_query(connection, student_dist_view)\n",
    "    \n",
    "# Defining year and status \n",
    "years = range(2016, 2023)\n",
    "statuses = ['applicants', 'admitted']\n",
    "\n",
    "# Iterating throught years and statuses\n",
    "for year in years:\n",
    "    for status in statuses:\n",
    "        student_dist(year, status)"
   ]
  },
  {
   "cell_type": "code",
   "execution_count": null,
   "metadata": {},
   "outputs": [],
   "source": []
  }
 ],
 "metadata": {
  "kernelspec": {
   "display_name": "Python 3",
   "language": "python",
   "name": "python3"
  },
  "language_info": {
   "codemirror_mode": {
    "name": "ipython",
    "version": 3
   },
   "file_extension": ".py",
   "mimetype": "text/x-python",
   "name": "python",
   "nbconvert_exporter": "python",
   "pygments_lexer": "ipython3",
   "version": "3.10.11"
  },
  "orig_nbformat": 4
 },
 "nbformat": 4,
 "nbformat_minor": 2
}
