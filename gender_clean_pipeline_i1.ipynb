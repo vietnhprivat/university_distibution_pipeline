{
 "cells": [
  {
   "attachments": {},
   "cell_type": "markdown",
   "metadata": {},
   "source": [
    "# Gender dataset cleaning pipeline 1st iteration"
   ]
  },
  {
   "attachments": {},
   "cell_type": "markdown",
   "metadata": {},
   "source": [
    "## 1) Cleaning datasets from 2016 to 2022"
   ]
  },
  {
   "cell_type": "code",
   "execution_count": 42,
   "metadata": {},
   "outputs": [],
   "source": [
    "# Importing libraries\n",
    "import mysql.connector\n",
    "from mysql.connector import Error\n",
    "import os\n",
    "import pandas as pd"
   ]
  },
  {
   "cell_type": "code",
   "execution_count": 43,
   "metadata": {},
   "outputs": [],
   "source": [
    "# Creating a function to clean and save the dataframe\n",
    "def clean_and_save_dataframe(year):\n",
    "    csv_file = f\"gender/accepted_gender_{year}.csv\"\n",
    "    try:\n",
    "        df_køn = pd.read_csv(csv_file, skiprows=3)\n",
    "\n",
    "        df_køn['OptNavn'] = df_køn['OptNavn'].str.replace(', Studiestart: sommerstart', '')\n",
    "        df_køn['OptNavn'] = df_køn['OptNavn'].str.replace(', Studiestart: vinterstart', '')\n",
    "        df_køn['OptNavn'] = df_køn['OptNavn'].str.replace(', Studiestart: sommer- og vinterstart', '')\n",
    "        df_køn['OptNavn'] = df_køn['OptNavn'].str.replace(', Study start: Summer start', '')\n",
    "        df_køn['OptNavn'] = df_køn['OptNavn'].str.replace(', Study start: Winter start', '')\n",
    "\n",
    "\n",
    "        folder_path = './gender_cleaned/'\n",
    "        if not os.path.exists(folder_path):\n",
    "            os.makedirs(folder_path)\n",
    "\n",
    "        file_path = folder_path + f'accepted_gender_clean_{year}.csv'\n",
    "        df_køn.to_csv(file_path, index=False)\n",
    "\n",
    "# If file path not found print out all the missing files\n",
    "    except FileNotFoundError:\n",
    "        print(f\"File for year {year} not found.\")\n",
    "\n",
    "# Iterate through the years from 2016 to 2022 and process each file\n",
    "for year in range(2016, 2023):\n",
    "    clean_and_save_dataframe(year)\n"
   ]
  },
  {
   "attachments": {},
   "cell_type": "markdown",
   "metadata": {},
   "source": [
    "## 2) Connecting to SQL server"
   ]
  },
  {
   "cell_type": "code",
   "execution_count": 44,
   "metadata": {},
   "outputs": [
    {
     "name": "stdout",
     "output_type": "stream",
     "text": [
      "MySQL Database connection successful\n"
     ]
    },
    {
     "data": {
      "text/plain": [
       "<mysql.connector.connection.MySQLConnection at 0x226e8e23f40>"
      ]
     },
     "execution_count": 44,
     "metadata": {},
     "output_type": "execute_result"
    }
   ],
   "source": [
    "# Creating a reuseable function that connect to mysql server, using host_name, user_name, user_password\n",
    "def create_server_connection(host_name, user_name, user_password):\n",
    "    connection = None\n",
    "    try:\n",
    "        connection = mysql.connector.connect(\n",
    "            host=host_name,\n",
    "            user=user_name,\n",
    "            passwd=user_password\n",
    "        )\n",
    "        print(\"MySQL Database connection successful\")\n",
    "    except Error as err:\n",
    "        print(f\"Error: '{err}'\")\n",
    "\n",
    "    return connection \n",
    "create_server_connection('localhost', 'root', '1234')"
   ]
  },
  {
   "attachments": {},
   "cell_type": "markdown",
   "metadata": {},
   "source": [
    "### 2.1) Creating database and connecting"
   ]
  },
  {
   "cell_type": "code",
   "execution_count": 45,
   "metadata": {},
   "outputs": [
    {
     "name": "stdout",
     "output_type": "stream",
     "text": [
      "MySQL Database connection successful\n",
      "Database created successfully\n"
     ]
    }
   ],
   "source": [
    "# Defining a function that create a new data base\n",
    "def create_database(connection, query):\n",
    "    cursor = connection.cursor()\n",
    "    try:\n",
    "        cursor.execute(query)\n",
    "        print(\"Database created successfully\")\n",
    "    except Error as err:\n",
    "        print(f\"Error: '{err}'\")\n",
    "\n",
    "# 1. Connecting to the SQL server and defining the connection\n",
    "connection = create_server_connection('localhost', 'root', '1234')\n",
    "\n",
    "# 2. Creating the SQL query that will create a database\n",
    "create_database_query = \"CREATE DATABASE university_distibution\"\n",
    "\n",
    "# 3. Using the function to create the database\n",
    "create_database(connection, create_database_query)"
   ]
  },
  {
   "attachments": {},
   "cell_type": "markdown",
   "metadata": {},
   "source": [
    "Connecting to database"
   ]
  },
  {
   "cell_type": "code",
   "execution_count": 46,
   "metadata": {},
   "outputs": [
    {
     "name": "stdout",
     "output_type": "stream",
     "text": [
      "MySQL Database connection successful\n"
     ]
    },
    {
     "data": {
      "text/plain": [
       "<mysql.connector.connection.MySQLConnection at 0x226e8e20100>"
      ]
     },
     "execution_count": 46,
     "metadata": {},
     "output_type": "execute_result"
    }
   ],
   "source": [
    "# Defining a function that connects to the database \n",
    "def create_db_connection(host_name, user_name, user_password, db_name):\n",
    "    connection = None\n",
    "    try:\n",
    "        connection = mysql.connector.connect(\n",
    "            host=host_name,\n",
    "            user=user_name,\n",
    "            passwd=user_password,\n",
    "            database=db_name\n",
    "        )\n",
    "        print(\"MySQL Database connection successful\")\n",
    "    except Error as err:\n",
    "        print(f\"Error: '{err}'\")\n",
    "\n",
    "    return connection\n",
    "\n",
    "# Connecting to the database\n",
    "create_db_connection('localhost', 'root','1234', 'university_distibution')"
   ]
  },
  {
   "attachments": {},
   "cell_type": "markdown",
   "metadata": {},
   "source": [
    "Defining execute functions"
   ]
  },
  {
   "cell_type": "code",
   "execution_count": 47,
   "metadata": {},
   "outputs": [],
   "source": [
    "# Defining a query execution function\n",
    "def execute_query(connection, query):\n",
    "    cursor = connection.cursor()\n",
    "    try:\n",
    "        cursor.execute(query)\n",
    "        connection.commit()\n",
    "        print(\"Query successful\")\n",
    "    except Error as err:\n",
    "        print(f\"Error: '{err}'\")"
   ]
  },
  {
   "attachments": {},
   "cell_type": "markdown",
   "metadata": {},
   "source": [
    "Creating tables "
   ]
  },
  {
   "cell_type": "code",
   "execution_count": 48,
   "metadata": {},
   "outputs": [
    {
     "name": "stdout",
     "output_type": "stream",
     "text": [
      "MySQL Database connection successful\n",
      "Query successful\n",
      "Query successful\n",
      "Query successful\n",
      "Query successful\n",
      "Query successful\n",
      "Query successful\n",
      "Query successful\n"
     ]
    }
   ],
   "source": [
    "# Creating table gender\n",
    "def table_creator(year):\n",
    "    create_gender_table = f\"\"\"\n",
    "    CREATE TABLE gender_{year} (\n",
    "        InstNr int,\n",
    "        InstNavn varchar(200),\n",
    "        OptNr int,\n",
    "        OptNavn varchar(200),\n",
    "        Mand int,\n",
    "        Kvinder int,\n",
    "        I_alt int   \n",
    "    );\n",
    "    \"\"\"\n",
    "    # Execute our defined query\n",
    "    execute_query(connection, create_gender_table) \n",
    "\n",
    "# Connect to the Database\n",
    "connection = create_db_connection(\"localhost\", \"root\", \"1234\",'university_distibution')\n",
    "\n",
    "# Iterate through the years from 2016 to 2022 and process each name\n",
    "for year in range(2016, 2023):\n",
    "    table_creator(year)"
   ]
  },
  {
   "attachments": {},
   "cell_type": "markdown",
   "metadata": {},
   "source": [
    "## 3) Loading data from .csv into tables from 2016-2022"
   ]
  },
  {
   "cell_type": "code",
   "execution_count": 49,
   "metadata": {},
   "outputs": [
    {
     "name": "stdout",
     "output_type": "stream",
     "text": [
      "MySQL Database connection successful\n",
      "Query successful\n"
     ]
    }
   ],
   "source": [
    "# Enabling file imports\n",
    "set_global = \"\"\"\n",
    "SET GLOBAL local_infile=1;\n",
    "\"\"\"\n",
    "# Connect to the Database\n",
    "connection = create_db_connection(\"localhost\", \"root\", \"1234\",'university_distibution')\n",
    "execute_query(connection, set_global)"
   ]
  },
  {
   "cell_type": "code",
   "execution_count": 50,
   "metadata": {},
   "outputs": [
    {
     "name": "stdout",
     "output_type": "stream",
     "text": [
      "MySQL Database connection successful\n",
      "Query successful\n",
      "Query successful\n",
      "Query successful\n",
      "Query successful\n",
      "Query successful\n",
      "Query successful\n",
      "Query successful\n"
     ]
    }
   ],
   "source": [
    "\n",
    "# Creating a function that loads .csv into tables with the corresponding year\n",
    "def csv_loader(year):\n",
    "    load_csv_gender = f\"\"\"\n",
    "    LOAD DATA INFILE \n",
    "        'C:/Projects/SQL_Portfolio project/Videre_gaaende_uddannelser/python/gender_cleaned/accepted_gender_clean_{year}.csv'\n",
    "    INTO TABLE \n",
    "        gender_{year}\n",
    "    FIELDS TERMINATED BY ','\n",
    "    ENCLOSED BY '\"'\n",
    "    LINES TERMINATED BY '\\r\\n'\n",
    "    IGNORE 1 LINES;\n",
    "    \"\"\"\n",
    "    # Executing defined query\n",
    "    execute_query(connection, load_csv_gender) \n",
    "    \n",
    "# Connect to the Database\n",
    "connection = create_db_connection(\"localhost\", \"root\", \"1234\",'university_distibution')\n",
    "\n",
    "# Iterate through the years from 2016 to 2022 and process each name\n",
    "for year in range(2016, 2023):\n",
    "    csv_loader(year)"
   ]
  },
  {
   "attachments": {},
   "cell_type": "markdown",
   "metadata": {},
   "source": [
    "## 4) Data analysis"
   ]
  },
  {
   "attachments": {},
   "cell_type": "markdown",
   "metadata": {},
   "source": [
    "### 4.1) Academic Major Gender Distibution"
   ]
  },
  {
   "attachments": {},
   "cell_type": "markdown",
   "metadata": {},
   "source": [
    "Creating a new view that group all of the matching educations(optname) and taking the sum of the students, and showing gender distibution in numbers and procentage share"
   ]
  },
  {
   "cell_type": "code",
   "execution_count": 51,
   "metadata": {},
   "outputs": [
    {
     "name": "stdout",
     "output_type": "stream",
     "text": [
      "Query successful\n",
      "Query successful\n",
      "Query successful\n",
      "Query successful\n",
      "Query successful\n",
      "Query successful\n",
      "Query successful\n"
     ]
    }
   ],
   "source": [
    "#Creating a function that execute a query select and calculate the gender distibution in pct.\n",
    "def gender_dist_creator(year):\n",
    "    gender_view = f\"\"\"\n",
    "    CREATE VIEW gender_dist_{year} AS\n",
    "    Select \n",
    "        instnr, \n",
    "        InstNavn as instname,\n",
    "        Max(optnr) as OptNr,\n",
    "        optnavn as optname, \n",
    "        sum(mand) as male_{year}, \n",
    "        round(sum(mand)/sum(i_alt)*100,2) as male_pct_{year},\n",
    "        sum(kvinder) as female_{year}, \n",
    "        round(sum(kvinder)/sum(i_alt)*100,2) as female_pct_{year},\n",
    "        sum(i_alt) as total_{year}\n",
    "    from gender_{year}\n",
    "    group by \n",
    "        InstNr, \n",
    "        InstNavn, \n",
    "        OptNavn\n",
    "    order by \n",
    "        InstNr;   \n",
    "    \"\"\"\n",
    "    execute_query(connection, gender_view)\n",
    "\n",
    "# Iterate through the years from 2016 to 2022 and process each name\n",
    "for year in range(2016, 2023):\n",
    "    gender_dist_creator(year)"
   ]
  },
  {
   "attachments": {},
   "cell_type": "markdown",
   "metadata": {},
   "source": [
    "### 4.2) University Gender Distibution"
   ]
  },
  {
   "attachments": {},
   "cell_type": "markdown",
   "metadata": {},
   "source": [
    "Grouping all academic majors from the same university and calculating the gender distibution"
   ]
  },
  {
   "cell_type": "code",
   "execution_count": 55,
   "metadata": {},
   "outputs": [
    {
     "name": "stdout",
     "output_type": "stream",
     "text": [
      "Query successful\n",
      "Query successful\n",
      "Query successful\n",
      "Query successful\n",
      "Query successful\n",
      "Query successful\n",
      "Query successful\n"
     ]
    }
   ],
   "source": [
    "# Creating a function that groups universities and calculate the percentage distibution\n",
    "def gender_dist_uni(year):\n",
    "    gender_uni_view = f\"\"\"\n",
    "    CREATE VIEW gender_dist_uni_{year} as\n",
    "    select \n",
    "        instnr,\n",
    "        instname,\n",
    "        sum(male_{year}) as male_{year},\n",
    "        round(sum(male_{year})/sum(total_{year})*100,2) as male_pct_{year},\n",
    "        sum(female_{year}) as female_{year},\n",
    "        round(sum(female_{year})/sum(total_{year})*100,2) as female_pct_{year},\n",
    "        sum(total_{year}) as total_{year}\n",
    "    from gender_dist_{year}\n",
    "    group by\n",
    "        instnr, instname\n",
    "    order by \n",
    "        instnr;\n",
    "\n",
    "    \"\"\"\n",
    "    execute_query(connection, gender_uni_view)\n",
    "\n",
    "# Iterate through the years from 2016 to 2022 and process each name \n",
    "for year in range(2016, 2023):\n",
    "    gender_dist_uni(year)"
   ]
  },
  {
   "attachments": {},
   "cell_type": "markdown",
   "metadata": {},
   "source": [
    "### 4.3) Total Gender distibution"
   ]
  },
  {
   "attachments": {},
   "cell_type": "markdown",
   "metadata": {},
   "source": [
    "Grouping all universities and calculating the total distibution of students on the indiviual universities"
   ]
  },
  {
   "cell_type": "code",
   "execution_count": 61,
   "metadata": {},
   "outputs": [
    {
     "name": "stdout",
     "output_type": "stream",
     "text": [
      "Query successful\n",
      "Query successful\n",
      "Query successful\n",
      "Query successful\n",
      "Query successful\n",
      "Query successful\n",
      "Query successful\n"
     ]
    }
   ],
   "source": [
    "# Defining a function that execute the following SQL Query\n",
    "def student_dist(year):\n",
    "    student_dist_view = f\"\"\"\n",
    "    CREATE VIEW total_student_{year} as\n",
    "    SELECT \n",
    "        instnr,\n",
    "        instnavn,\n",
    "        round(sum(i_alt) / (select sum(i_alt) from gender_{year}) * 100,2) as pct_{year},\n",
    "        SUM(i_alt) AS Total_{year}\n",
    "    FROM gender_{year}\n",
    "    GROUP BY \n",
    "        instnr,\n",
    "        instnavn\n",
    "    Order by total_{year} desc;\n",
    "\n",
    "    \"\"\"\n",
    "    execute_query(connection, student_dist_view)\n",
    "    \n",
    "# Iterate through the years from 2016 to 2022 and process each name \n",
    "for year in range(2016, 2023):\n",
    "    student_dist(year)\n"
   ]
  },
  {
   "cell_type": "code",
   "execution_count": null,
   "metadata": {},
   "outputs": [],
   "source": []
  }
 ],
 "metadata": {
  "kernelspec": {
   "display_name": "Python 3",
   "language": "python",
   "name": "python3"
  },
  "language_info": {
   "codemirror_mode": {
    "name": "ipython",
    "version": 3
   },
   "file_extension": ".py",
   "mimetype": "text/x-python",
   "name": "python",
   "nbconvert_exporter": "python",
   "pygments_lexer": "ipython3",
   "version": "3.10.11"
  },
  "orig_nbformat": 4
 },
 "nbformat": 4,
 "nbformat_minor": 2
}
